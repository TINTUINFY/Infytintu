{
 "cells": [
  {
   "cell_type": "code",
   "execution_count": null,
   "id": "ce9cb95b",
   "metadata": {},
   "outputs": [],
   "source": [
    "import torch, detectron2\n",
    "#!nvcc --version\n",
    "TORCH_VERSION = \".\".join(torch.__version__.split(\".\")[:2])\n",
    "CUDA_VERSION = torch.__version__.split(\"+\")[-1]\n",
    "print(\"torch: \", TORCH_VERSION, \"; cuda: \", CUDA_VERSION)\n",
    "print(\"detectron2:\", detectron2.__version__)"
   ]
  },
  {
   "cell_type": "code",
   "execution_count": null,
   "id": "baf1a6b1",
   "metadata": {},
   "outputs": [],
   "source": [
    "# Some basic setup:\n",
    "# Setup detectron2 logger\n",
    "import detectron2\n",
    "from detectron2.utils.logger import setup_logger\n",
    "setup_logger()\n",
    "\n",
    "# import some common libraries\n",
    "import numpy as np\n",
    "import os, json, random\n",
    "import cv2"
   ]
  },
  {
   "cell_type": "code",
   "execution_count": null,
   "id": "46d254ed",
   "metadata": {},
   "outputs": [],
   "source": [
    "# import some common detectron2 utilities\n",
    "from detectron2 import model_zoo\n",
    "from detectron2.engine import DefaultPredictor\n",
    "from detectron2.config import get_cfg\n",
    "from detectron2.utils.visualizer import Visualizer\n",
    "from detectron2.data import MetadataCatalog, DatasetCatalog"
   ]
  },
  {
   "cell_type": "code",
   "execution_count": null,
   "id": "8a55edbb",
   "metadata": {},
   "outputs": [],
   "source": [
    "Data_Resister_training=\"app_train\";\n",
    "Data_Resister_valid=\"app_valid\";\n",
    "from detectron2.data.datasets import register_coco_instances\n",
    "#dataDir=Path('./dataset')\n",
    "\n",
    "register_coco_instances(Data_Resister_training,{}, './dataset/train/train.json', \"./dataset/train\")\n",
    "register_coco_instances(Data_Resister_valid,{},'./dataset/val/val.json', \"./dataset/val\")\n",
    "\n",
    "MetadataCatalog.get(Data_Resister_training).set(thing_classes=[\"Title\",\"Menu\",\"Ribbon\"])\n",
    "MetadataCatalog.get(Data_Resister_valid).set(thing_classes=[\"Title\",\"Menu\",\"Ribbon\"])\n",
    "metadata = MetadataCatalog.get(Data_Resister_training)\n",
    "\n",
    "dataset_train = DatasetCatalog.get(Data_Resister_training)\n",
    "dataset_valid = DatasetCatalog.get(Data_Resister_valid)"
   ]
  },
  {
   "cell_type": "code",
   "execution_count": null,
   "id": "4a42169b",
   "metadata": {},
   "outputs": [],
   "source": [
    "cfg = get_cfg()\n",
    "# add project-specific config (e.g., TensorMask) here if you're not running a model in detectron2's core library\n",
    "cfg.merge_from_file(\"./output/model_config.yaml\")\n",
    "cfg.MODEL.ROI_HEADS.SCORE_THRESH_TEST = 0.8  # set threshold for this model\n",
    "# Find a model from detectron2's model zoo. You can use the https://dl.fbaipublicfiles... url as well\n",
    "#cfg.MODEL.WEIGHTS = model_zoo.get_checkpoint_url(\"COCO-InstanceSegmentation/mask_rcnn_R_50_FPN_3x.yaml\")\n",
    "cfg.MODEL.WEIGHTS='./output/model_final.pth'\n",
    "cfg.MODEL.DEVICE = 'cpu'\n",
    "predictor = DefaultPredictor(cfg)"
   ]
  },
  {
   "cell_type": "code",
   "execution_count": null,
   "id": "7dc229e5",
   "metadata": {},
   "outputs": [],
   "source": [
    "dataset_valid = DatasetCatalog.get(Data_Resister_valid)\n",
    "import matplotlib.pyplot as plt\n",
    "from detectron2.utils.visualizer import ColorMode\n",
    "for d in random.sample(dataset_valid, 3): \n",
    "    im = cv2.imread(d[\"file_name\"])\n",
    "    outputs = predictor(im)  # format is documented at https://detectron2.readthedocs.io/tutorials/models.html#model-output-format\n",
    "    v = Visualizer(im[:, :, ::-1],\n",
    "                   metadata=metadata, \n",
    "                   scale=0.5, \n",
    "                   instance_mode=ColorMode.IMAGE_BW   # remove the colors of unsegmented pixels. This option is only available for segmentation models\n",
    "    )\n",
    "    print(outputs[\"instances\"])\n",
    "    out = v.draw_instance_predictions(outputs[\"instances\"].to(\"cpu\"))\n",
    "    \n",
    "    print(d[\"file_name\"])\n",
    "    \n",
    "    plt.rcParams[\"figure.figsize\"] = (20,6)\n",
    "    plt.imshow(out.get_image()[:, :, ::-1])\n",
    "\n",
    "    plt.show()\n",
    "\n"
   ]
  },
  {
   "cell_type": "code",
   "execution_count": null,
   "id": "28b5abf1",
   "metadata": {},
   "outputs": [],
   "source": []
  }
 ],
 "metadata": {
  "kernelspec": {
   "display_name": "Python 3.10.7 64-bit",
   "language": "python",
   "name": "python3"
  },
  "language_info": {
   "codemirror_mode": {
    "name": "ipython",
    "version": 3
   },
   "file_extension": ".py",
   "mimetype": "text/x-python",
   "name": "python",
   "nbconvert_exporter": "python",
   "pygments_lexer": "ipython3",
   "version": "3.10.7"
  },
  "vscode": {
   "interpreter": {
    "hash": "26de051ba29f2982a8de78e945f0abaf191376122a1563185a90213a26c5da77"
   }
  }
 },
 "nbformat": 4,
 "nbformat_minor": 5
}
